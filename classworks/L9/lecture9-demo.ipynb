{
 "cells": [
  {
   "cell_type": "markdown",
   "metadata": {},
   "source": [
    "# Exercise 1: \"Private\" Methods and Names in Python\n",
    "\n",
    "## Background\n",
    "We will consider two extensions to the real numbers:  complex numbers and dual numbers.  \n",
    "\n",
    "### Complex Numbers\n",
    "A complex number is defined as $$z = a + ib$$ where $i^{2} = -1$.  $a$ is the real part and $b$ is the imaginary part.  The polar form of a complex number is $$z = \\left|z\\right|e^{i\\theta}$$ where $\\left|z\\right|^{2} = zz^{*} = a^{2} + b^{2}$ and $z^{*} = a - ib$ is the complex conjugate of $z$.  The angle between $a$ and $b$ is given by $$\\theta = \\tan^{-1}\\left(\\frac{b}{a}\\right).$$\n",
    "\n",
    "### Dual Numbers\n",
    "The dual numbers look similar.  We have $$d = a + \\epsilon b$$ where $\\epsilon$ is a number (not zero!) such that $\\epsilon^{2} = 0$.  Once again $a$ is the real part, but here $b$ is the dual part.  The polar form of this number is $$d = \\displaystyle a\\left(1 + \\epsilon \\frac{b}{a}\\right).$$  Note that the magnitude of the dual number $\\left|d\\right| = a$ since $dd^{*} = \\left(a + \\epsilon b\\right)\\left(a - \\epsilon b\\right) = a$ where $d^{*} = a - \\epsilon b$ is the conjugate of $d$.  Finally, the angular part is $$m = \\dfrac{b}{a}.$$\n",
    "\n",
    "Dual numbers are a route to automatic differentiation.  We'll mention them again in the AD lectures.\n",
    "\n",
    "## Problem Description\n",
    "\n",
    "### Part 1\n",
    "For today, your task is to write a module called `mynumbers.py`.  The module should contain at a minimum the following:\n",
    "* A base class called `RealExtensions` with a constructor that accepts $a$ and $b$.\n",
    "* A subclass called `Complex` (inherits from `RealExtensions`) that has the following methods:\n",
    "  * Compute the magnitude of the complex number\n",
    "    * **Note:** This method should be preceeded by a single underscore to indicate that it should not be accessed by a user.\n",
    "  * Compute the \"angle\" of the complex number\n",
    "    * **Note:** This method should be preceeded by a single underscore to indicate that it should not be accessed by a user.\n",
    "  * Compute the polar form of the complex number using `_magnitude()` and `_angle()`\n",
    "* A subclass called `Dual` (inherits from `RealExtensions`) that has methods for computing the magnitude and \"angle\" of the dual number.\n",
    "  * Compute the magnitude of the dual number\n",
    "    * **Note:** This method should be preceeded by a single underscore to indicate that it should not be accessed by a user.\n",
    "  * Compute the \"angle\" of the dual number\n",
    "    * **Note:** This method should be preceeded by a single underscore to indicate that it should not be accessed by a user.\n",
    "  * Compute the polar form of the dual number using `_magnitude()` and `_angle()`\n",
    "\n",
    "The choice of \"hiding\" the `magnitude()` and `angle()` methods may or may not be a good one.  The goal is to show that this is not really privacy; it's more of a contract between people using the code.  Note that a user can still access `_magnitude()` and `_angle()`.  However, this is a rather strong contract among Python programmers and is used widely in Python code.\n",
    "\n",
    "#### Import your module using `import mynumbers` and play around with creating complex and dual numbers.  Demo your code in the cell below:"
   ]
  },
  {
   "cell_type": "code",
   "execution_count": 3,
   "metadata": {},
   "outputs": [
    {
     "name": "stdout",
     "output_type": "stream",
     "text": [
      "2.0 1.0\n",
      "2.0 2.0\n",
      "(2.23606797749979, 0.46364760900080615)\n",
      "(2.0, 1.0)\n"
     ]
    }
   ],
   "source": [
    "import mynumbers as myn\n",
    "\n",
    "zc = myn.Complex(2.0,1.0) # complex number\n",
    "print(zc.real, zc.imag)\n",
    "\n",
    "zd = myn.Dual(2.0,2.0)\n",
    "print(zd.real, zd.dual)\n",
    "\n",
    "zc_polar = zc.polar_form()\n",
    "print(zc_polar)\n",
    "\n",
    "zd_polar = zd.polar_form()\n",
    "print(zd_polar)"
   ]
  },
  {
   "cell_type": "markdown",
   "metadata": {},
   "source": [
    "### Part 2\n",
    "Once you're happy with your module, make the following change:\n",
    "* Rename the `Complex` subclass as `_Complex`.  Save the new module as `mynumbers_p`.\n",
    "* Now import your module using `from mynumbers_p import *`\n",
    "* Try to create a complex number.  What happens?\n",
    "  * **Note:** You can use `dir()` to see what's in your namespace.\n",
    "\n",
    "**Demo your code in the cell below.**"
   ]
  },
  {
   "cell_type": "code",
   "execution_count": 5,
   "metadata": {},
   "outputs": [
    {
     "data": {
      "text/plain": [
       "['Dual',\n",
       " 'In',\n",
       " 'Out',\n",
       " 'RealExtensions',\n",
       " '_',\n",
       " '__',\n",
       " '___',\n",
       " '__builtin__',\n",
       " '__builtins__',\n",
       " '__doc__',\n",
       " '__loader__',\n",
       " '__name__',\n",
       " '__package__',\n",
       " '__spec__',\n",
       " '_dh',\n",
       " '_i',\n",
       " '_i1',\n",
       " '_i2',\n",
       " '_i3',\n",
       " '_i4',\n",
       " '_i5',\n",
       " '_ih',\n",
       " '_ii',\n",
       " '_iii',\n",
       " '_oh',\n",
       " 'exit',\n",
       " 'get_ipython',\n",
       " 'myn',\n",
       " 'np',\n",
       " 'quit',\n",
       " 'zc',\n",
       " 'zc_polar',\n",
       " 'zd',\n",
       " 'zd_polar']"
      ]
     },
     "execution_count": 5,
     "metadata": {},
     "output_type": "execute_result"
    }
   ],
   "source": [
    "dir()"
   ]
  },
  {
   "cell_type": "code",
   "execution_count": 4,
   "metadata": {
    "scrolled": true
   },
   "outputs": [
    {
     "ename": "NameError",
     "evalue": "name '_Complex' is not defined",
     "output_type": "error",
     "traceback": [
      "\u001b[0;31m---------------------------------------------------------------------------\u001b[0m",
      "\u001b[0;31mNameError\u001b[0m                                 Traceback (most recent call last)",
      "\u001b[0;32m<ipython-input-4-cd9040f87fa5>\u001b[0m in \u001b[0;36m<module>\u001b[0;34m\u001b[0m\n\u001b[1;32m      1\u001b[0m \u001b[0;32mfrom\u001b[0m \u001b[0mmynumbers_p\u001b[0m \u001b[0;32mimport\u001b[0m \u001b[0;34m*\u001b[0m\u001b[0;34m\u001b[0m\u001b[0;34m\u001b[0m\u001b[0m\n\u001b[1;32m      2\u001b[0m \u001b[0;34m\u001b[0m\u001b[0m\n\u001b[0;32m----> 3\u001b[0;31m \u001b[0mzc\u001b[0m \u001b[0;34m=\u001b[0m \u001b[0m_Complex\u001b[0m\u001b[0;34m(\u001b[0m\u001b[0;36m2.0\u001b[0m\u001b[0;34m,\u001b[0m \u001b[0;36m1.0\u001b[0m\u001b[0;34m)\u001b[0m\u001b[0;34m\u001b[0m\u001b[0;34m\u001b[0m\u001b[0m\n\u001b[0m",
      "\u001b[0;31mNameError\u001b[0m: name '_Complex' is not defined"
     ]
    }
   ],
   "source": [
    "from mynumbers_p import *\n",
    "\n",
    "zc = _Complex(2.0, 1.0)"
   ]
  },
  {
   "cell_type": "markdown",
   "metadata": {},
   "source": [
    "### Part 3:  Name Mangling Mechanics\n",
    "#### This part is optional\n",
    "\n",
    "For some reason you decide to store the components of your number in an immutable data structure.  Do this in the base class (`RealExtensions`) via a tuple attribute called `number`. Provide a *method* called `number` in the `Complex` subclass which stores the number as a list in an attribute named `number`.  If the user calls the `number` method on a `Complex` instance, then you automatically store the number in an immutable data structure as specified in the base class constructor.  Use `super()` to call the base class constructor.  Meanwhile, still in the `number` method of the `Complex` subclass, store the mutable list of numbers as an attribute in the subclass.  Once again, name this attribute `number`.\n",
    "\n",
    "To avoid possible namespace collisions, mangle the names.  That is, instead of naming the `number` methods just `number`, name them as `__number`.\n",
    "\n",
    "Save your module as `mynumbers_m.py`.\n",
    "\n",
    "Your module should be importatable and demoed as follows:"
   ]
  },
  {
   "cell_type": "code",
   "execution_count": 3,
   "metadata": {},
   "outputs": [
    {
     "name": "stdout",
     "output_type": "stream",
     "text": [
      "(1, 1) [1, 1]\n"
     ]
    },
    {
     "data": {
      "text/plain": [
       "{'real': 1,\n",
       " 'imag': 1,\n",
       " 'a': 1,\n",
       " 'b': 1,\n",
       " '_RealExtensions__number': (1, 1),\n",
       " '_Complex__number': [1, 1]}"
      ]
     },
     "execution_count": 3,
     "metadata": {},
     "output_type": "execute_result"
    }
   ],
   "source": [
    "import mynumbers_m as myn_m \n",
    "\n",
    "z = myn_m.Complex(1,1)\n",
    "z.number()\n",
    "print(z._RealExtensions__number, z._Complex__number)\n",
    "vars(z)"
   ]
  },
  {
   "cell_type": "markdown",
   "metadata": {},
   "source": [
    "### Some Comments on Part 3\n",
    "\n",
    "This exercise was meant to illustrate the mechanics of name mangling.  The idea of privacy via name mangling in Python is a bit controversial [Ian Bicking at Paste Style Guide](https://web.archive.org/web/20161025185040/http://pythonpaste.org/StyleGuide.html)\n",
    ">Never, ever use two leading underscores. This is annoyingly private. If name clashes are a concern, use explicit name mangling instead (e.g., _MyThing_blahblah). This is essentially the same thing as double-underscore, only it’s transparent where double underscore obscures.\n",
    "\n",
    "One potential use case is if a class is meant to be extended many times (see, e.g. [Why are Python's 'private' methods not actually private?](https://stackoverflow.com/questions/70528/why-are-pythons-private-methods-not-actually-private/70900#70900)).  This example attempted to highlight this possible use case."
   ]
  },
  {
   "cell_type": "markdown",
   "metadata": {},
   "source": [
    "### Deliverables\n",
    "* `mynumbers.py`\n",
    "* `mynumbers_p.py` \n",
    "* `mynumbers_m.py` --- Optional\n",
    "* A demo notebook saved as `lecture9-demo.ipynb`\n",
    "    - The notebook can look exactly like this one (problem statements and all)."
   ]
  }
 ],
 "metadata": {
  "kernelspec": {
   "display_name": "Python 3",
   "language": "python",
   "name": "python3"
  },
  "language_info": {
   "codemirror_mode": {
    "name": "ipython",
    "version": 3
   },
   "file_extension": ".py",
   "mimetype": "text/x-python",
   "name": "python",
   "nbconvert_exporter": "python",
   "pygments_lexer": "ipython3",
   "version": "3.7.1"
  }
 },
 "nbformat": 4,
 "nbformat_minor": 2
}
